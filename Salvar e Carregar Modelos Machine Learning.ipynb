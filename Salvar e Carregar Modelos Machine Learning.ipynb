{
 "cells": [
  {
   "cell_type": "markdown",
   "metadata": {
    "tags": [
     "CELL_1"
    ]
   },
   "source": [
    "# Instruções gerais\n",
    "\n",
    "Para executar uma CÉLULA, pressione o botão \"Run\" no topo, com a CÉLULA selecionada, ou pressione:\n",
    "    \n",
    "    Shift + Enter\n",
    "\n",
    "EXECUTE APENAS UMA CÉLULA POR VEZ\n",
    "\n",
    "-Caso deseje apagar a saída de uma célula carregada, mas não deseje carregar uma nova saída, vá à aba superior, escolha o ícone\n",
    "do teclado (open the command palette/ jupyter-notebook command group) e selecione clear cell output.\n",
    "\n",
    "@author: Marco César Prado Soares, MSc.\n",
    "Especialista Lean Six Sigma Master Black Belt, Eng. Químico, MSc. Eng. Mecatrônica (instrumentação) \n",
    "Marco.Soares@br.ey.com; marcosoares.feq@gmail.com"
   ]
  },
  {
   "cell_type": "markdown",
   "metadata": {
    "tags": [
     "CELL_2"
    ]
   },
   "source": [
    "# Salvar o modelo Machine Learning\n",
    "\n",
    "A célula a seguir é utilizada para salvar o modelo aprendido, o qual poderá ser utilizado em situações futuras.\n",
    "O arquivo será salvo no endereço definido em file_address:\n",
    "\n",
    "file_address = \"D:\\Drive\\FM2S\\EAD\\Green Belt em Python\\Machine Learning - módulo 1 - Regressão Logística\\Save and Load ML Models\\obtained_model.pmml\"\n",
    "\n",
    "file_address armazena o local em que sera salvo o modelo. Note que o arquivo gerado se chama obtained_model.pmml\n",
    "\n",
    "O dill permite salvar em qualquer extensao (pkl, sav, pmml, ...)\n",
    "\n",
    "Este trecho/célula pode ser aplicado a qualquer um dos modelos a serem utilizados, regressão logística, redes neurais para regressão, e redes neurais para classificação."
   ]
  },
  {
   "cell_type": "code",
   "execution_count": null,
   "metadata": {
    "tags": [
     "CELL_3"
    ]
   },
   "outputs": [],
   "source": [
    "import dill\n",
    "\n",
    "#Vamos utilizar como exemplo um modelo de regressão logística\n",
    "logisticRegr = LogisticRegression(solver = 'lbfgs')\n",
    "#Note que o modelo gerado e logisticRegr\n",
    "# Este modelo foi colocado aqui apenas para ilustrar a nomenclatura das \n",
    "# variaveis. Para usar esse arquivo, basta ter carregado o modelo Machine \n",
    "# Learning e substituir os trechos em que ha logisticRegr pelo nome do modelo\n",
    "# utilizado. Neste caso, acrescente um # a frente da linha logisticRegr = LogisticRegression(solver = 'lbfgs')\n",
    "# para torna-la um comentario.\n",
    "# Modifique tambem o file_address para a pasta e nome de arquivo que deseja\n",
    "# para o modelo.\n",
    "\n",
    "#Definicao da pasta na qual sera salvo o arquivo:\n",
    "file_address = \"D:\\Drive\\FM2S\\EAD\\Green Belt em Python\\Machine Learning - módulo 1 - Regressão Logística\\Save and Load ML Models\\obtained_model.pmml\"\n",
    "#file_address armazena o local em que sera salvo o modelo\n",
    "#note que o arquivo gerado se chama obtained_model.pmml\n",
    "#o dill permite salvar em qualquer extensao (pkl, sav, pmml, ...)\n",
    "\n",
    "dill.dump(logisticRegr, open(file_address, 'wb'))\n",
    "#aqui, modifique logisticRegr pelo nome do modelo declarado. O logisticRegr foi\n",
    "#utilizado aqui apenas para ilustrar como salvar o modelo gerado a partir de\n",
    "#um comando como logisticRegr = LogisticRegression(solver = 'lbfgs')\n",
    "\n",
    "\"\"\"\n",
    "Se o modelo fosse gerado por um comando como\n",
    "ann_reg = MLPRegressor(solver='adam', hidden_layer_sizes=100, activation='tanh', max_iter=20000).fit(x_train, y_train)\n",
    "\n",
    "Então o comando utilizado para salvá-lo seria:\n",
    "\n",
    "dill.dump(ann_reg, open(file_address, 'wb'))\n",
    "\n",
    "Note que basta substituir o primeiro argumento, que é o nome conferido ao modelo.\n",
    "\"\"\""
   ]
  },
  {
   "cell_type": "markdown",
   "metadata": {
    "tags": [
     "CELL_4"
    ]
   },
   "source": [
    "# Carregar o modelo Machine Learning\n",
    "\n",
    "A célula a seguir é utilizada para carregar um modelo de Machine Learning aprendido e salvo anteriormente.\n",
    "\n",
    "Vamos supor aqui que o arquivo será lido a partir do mesmo endereço no qual foi salvo o arquivo anterior, em file_address:\n",
    "\n",
    "file_address = \"D:\\Drive\\FM2S\\EAD\\Green Belt em Python\\Machine Learning - módulo 1 - Regressão Logística\\Save and Load ML Models\\obtained_model.pmml\"\n",
    "\n",
    "Note que você pode carregar o arquivo a partir de qualquer endereço. Basta modificar o trecho entre aspas após o file_address = \n",
    "\n",
    "Simplesmente insira o novo endereço no lugar do trecho removido (tomando o cuidado e informar corretamente o nome do arquivo, que pode ter sido renomeado). Por exemplo:\n",
    "\n",
    "file_address = \"C:\\Users\\Marco\\nova pasta\\modelo_obtido.pmml\""
   ]
  },
  {
   "cell_type": "code",
   "execution_count": null,
   "metadata": {
    "tags": [
     "CELL_5"
    ]
   },
   "outputs": [],
   "source": [
    "import dill\n",
    "\n",
    "loaded_model = dill.load(open(file_address, 'rb'))\n",
    "\n",
    "#Agora o modelo carregado  recebe o nome de loaded_model\n",
    "#todos os campos que recebiam o nome do modelo devem ter o nome substituído para loaded_model\n",
    "#você também pode modificar o nome loaded_model para um nome de seu interesse. Por exemplo:\n",
    "#logisticRegr = dill.load(open(file_address, 'rb')) fará o modelo ser carregado com o nome logisticRegr\n",
    "\n",
    "#ATENÇÃO: Caso já haja um modelo 1 com o nome escolhido para carregar o modelo 2, o modelo 1 deixará de existir, \n",
    "#sendo substituído pelo modelo 2 carregado.  "
   ]
  }
 ],
 "metadata": {
  "celltoolbar": "Tags",
  "kernelspec": {
   "display_name": "Python 3",
   "language": "python",
   "name": "python3"
  },
  "language_info": {
   "codemirror_mode": {
    "name": "ipython",
    "version": 3
   },
   "file_extension": ".py",
   "mimetype": "text/x-python",
   "name": "python",
   "nbconvert_exporter": "python",
   "pygments_lexer": "ipython3",
   "version": "3.8.5"
  }
 },
 "nbformat": 4,
 "nbformat_minor": 4
}
